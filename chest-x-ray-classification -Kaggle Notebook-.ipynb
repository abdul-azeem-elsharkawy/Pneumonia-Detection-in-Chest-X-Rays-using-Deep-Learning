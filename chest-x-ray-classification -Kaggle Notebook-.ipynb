{
 "cells": [
  {
   "cell_type": "markdown",
   "metadata": {},
   "source": [
    "# Importing Libraries"
   ]
  },
  {
   "cell_type": "code",
   "execution_count": 1,
   "metadata": {
    "_cell_guid": "b1076dfc-b9ad-4769-8c92-a6c4dae69d19",
    "_uuid": "8f2839f25d086af736a60e9eeb907d3b93b6e0e5",
    "execution": {
     "iopub.execute_input": "2024-12-12T18:57:03.504378Z",
     "iopub.status.busy": "2024-12-12T18:57:03.503659Z",
     "iopub.status.idle": "2024-12-12T18:57:05.620632Z",
     "shell.execute_reply": "2024-12-12T18:57:05.619772Z",
     "shell.execute_reply.started": "2024-12-12T18:57:03.504329Z"
    },
    "trusted": true
   },
   "outputs": [],
   "source": [
    "import torch\n",
    "import torch.nn as nn\n",
    "import torch.optim as optim\n",
    "import torchvision.models as models\n",
    "from torchvision import datasets, transforms\n",
    "from torch.utils.data import DataLoader\n",
    "from torch.optim.lr_scheduler import StepLR\n",
    "import warnings\n",
    "warnings.filterwarnings('ignore')"
   ]
  },
  {
   "cell_type": "markdown",
   "metadata": {},
   "source": [
    "# Make a dataset from different datasets to overcome unbalanced calsses"
   ]
  },
  {
   "cell_type": "code",
   "execution_count": 12,
   "metadata": {
    "execution": {
     "iopub.execute_input": "2024-12-12T19:21:00.874688Z",
     "iopub.status.busy": "2024-12-12T19:21:00.873960Z",
     "iopub.status.idle": "2024-12-12T19:21:00.894344Z",
     "shell.execute_reply": "2024-12-12T19:21:00.893382Z",
     "shell.execute_reply.started": "2024-12-12T19:21:00.874653Z"
    },
    "trusted": true
   },
   "outputs": [
    {
     "name": "stdout",
     "output_type": "stream",
     "text": [
      "Images copied successfully!\n"
     ]
    }
   ],
   "source": [
    "import os\n",
    "import shutil\n",
    "import random\n",
    "\n",
    "# مسارات مجموعات البيانات المختلفة\n",
    "datasets_dirs = [\n",
    "    \"/kaggle/input/chest-xray-pneumonia/chest_xray/val\"]\n",
    "\n",
    "# مسارات الفئات المطلوبة\n",
    "merged_dataset_dir = \"/kaggle/working/balance_dataset\"\n",
    "normal_dir = os.path.join(merged_dataset_dir, \"Normal\")\n",
    "\n",
    "\n",
    "# نقل الصور\n",
    "for dataset_dir in datasets_dirs:\n",
    "    # تعديل المسارات لتناسب أسماء الفئات في كل Dataset\n",
    "    normal_images_dir = os.path.join(dataset_dir, \"NORMAL\")\n",
    "    \n",
    "    # نسخ صور Normal\n",
    "    for image_name in os.listdir(normal_images_dir):\n",
    "        src_path = os.path.join(normal_images_dir, image_name)\n",
    "        dest_path = os.path.join(normal_dir, image_name)\n",
    "        shutil.copy(src_path, dest_path)\n",
    "\n",
    "print(\"Images copied successfully!\")\n"
   ]
  },
  {
   "cell_type": "markdown",
   "metadata": {},
   "source": [
    "# New dataset info."
   ]
  },
  {
   "cell_type": "code",
   "execution_count": 14,
   "metadata": {
    "execution": {
     "iopub.execute_input": "2024-12-12T19:22:50.747217Z",
     "iopub.status.busy": "2024-12-12T19:22:50.746339Z",
     "iopub.status.idle": "2024-12-12T19:22:50.754540Z",
     "shell.execute_reply": "2024-12-12T19:22:50.753654Z",
     "shell.execute_reply.started": "2024-12-12T19:22:50.747178Z"
    },
    "trusted": true
   },
   "outputs": [
    {
     "name": "stdout",
     "output_type": "stream",
     "text": [
      "Train Classes: ['Normal', 'Pneumonia']\n",
      "Test Classes: ['NORMAL', 'PNEUMONIA']\n",
      "Train Class 'Normal': 3697 images\n",
      "Train Class 'Pneumonia': 3875 images\n",
      "Test Class 'NORMAL': 234 images\n",
      "Test Class 'PNEUMONIA': 390 images\n"
     ]
    }
   ],
   "source": [
    "from collections import Counter\n",
    "\n",
    "# عرض أسماء الفئات\n",
    "print(\"Train Classes:\", train_data.classes)\n",
    "print(\"Test Classes:\", test_data.classes)\n",
    "\n",
    "# حساب عدد الصور في كل فئة لمجموعة التدريب\n",
    "train_class_counts = Counter([train_data.targets[i] for i in range(len(train_data))])\n",
    "for class_name, count in zip(train_data.classes, train_class_counts.values()):\n",
    "    print(f\"Train Class '{class_name}': {count} images\")\n",
    "\n",
    "# حساب عدد الصور في كل فئة لمجموعة الاختبار\n",
    "test_class_counts = Counter([test_data.targets[i] for i in range(len(test_data))])\n",
    "for class_name, count in zip(test_data.classes, test_class_counts.values()):\n",
    "    print(f\"Test Class '{class_name}': {count} images\")\n"
   ]
  },
  {
   "cell_type": "markdown",
   "metadata": {},
   "source": [
    "# Data & Model preparations"
   ]
  },
  {
   "cell_type": "code",
   "execution_count": 13,
   "metadata": {
    "execution": {
     "iopub.execute_input": "2024-12-12T19:22:45.214262Z",
     "iopub.status.busy": "2024-12-12T19:22:45.213908Z",
     "iopub.status.idle": "2024-12-12T19:22:45.810348Z",
     "shell.execute_reply": "2024-12-12T19:22:45.809414Z",
     "shell.execute_reply.started": "2024-12-12T19:22:45.214234Z"
    },
    "trusted": true
   },
   "outputs": [],
   "source": [
    "# Lists for storing accuracies\n",
    "train_accuracies = []\n",
    "test_accuracies = []\n",
    "\n",
    "# Data Augmentation\n",
    "transform = transforms.Compose([             # Compose عشان ينفذ كل التحويلات دي مع بعض على كل صورة\n",
    "    transforms.Resize((224, 224)),\n",
    "    transforms.RandomHorizontalFlip(p=0.5),\n",
    "    transforms.RandomRotation(degrees=15),\n",
    "    transforms.GaussianBlur(kernel_size=3, sigma=0.1),\n",
    "    transforms.ToTensor(),\n",
    "    transforms.Normalize((0.5,), (0.5,))])\n",
    "\n",
    "\n",
    "# Dataset and Mini-Batches\n",
    "train_dir = '/kaggle/working/balance_dataset'\n",
    "test_dir = '/kaggle/input/chest-xray-pneumonia/chest_xray/test'\n",
    "train_data = datasets.ImageFolder(train_dir, transform=transform)\n",
    "test_data = datasets.ImageFolder(test_dir, transform=transform)\n",
    "train_loader = DataLoader(train_data, batch_size=32, shuffle=True)\n",
    "test_loader = DataLoader(test_data, batch_size=32, shuffle=False)\n",
    "\n",
    "\n",
    "# ResNet18, Creating new output layer, and Dropout\n",
    "model = models.resnet18(pretrained=True)\n",
    "model.fc = nn.Sequential(                     # Sequential عشان ينفذ الأمرين دول ورا بعض\n",
    "    nn.Dropout(0.5),\n",
    "    nn.Linear(model.fc.in_features, 2))   # Creating new output layer with 2 outputs and the same no. of inputs \n",
    "\n",
    "\n",
    "# Full Fine-Tuning\n",
    "for param in model.parameters():     \n",
    "    param.requires_grad = True\n",
    "\n",
    "\n",
    "# Move the model to GPU or CPU\n",
    "device = torch.device(\"cuda\")\n",
    "model = model.to(device)\n",
    "\n",
    "\n",
    "# Loss Function, Optimizer, and Learning Rate decay\n",
    "criterion = nn.CrossEntropyLoss()\n",
    "optimizer = optim.Adam(model.parameters(), lr=0.001)\n",
    "scheduler = StepLR(optimizer, step_size=7, gamma=0.1)"
   ]
  },
  {
   "cell_type": "markdown",
   "metadata": {},
   "source": [
    "# Fitting"
   ]
  },
  {
   "cell_type": "code",
   "execution_count": 15,
   "metadata": {
    "execution": {
     "iopub.execute_input": "2024-12-12T19:23:13.267776Z",
     "iopub.status.busy": "2024-12-12T19:23:13.267433Z",
     "iopub.status.idle": "2024-12-12T20:36:01.766478Z",
     "shell.execute_reply": "2024-12-12T20:36:01.765273Z",
     "shell.execute_reply.started": "2024-12-12T19:23:13.267746Z"
    },
    "trusted": true
   },
   "outputs": [
    {
     "name": "stdout",
     "output_type": "stream",
     "text": [
      "Epoch [1/20], Loss: 0.1572, Training Accuracy: 94.08%\n",
      "Epoch [2/20], Loss: 0.1058, Training Accuracy: 96.28%\n",
      "Epoch [3/20], Loss: 0.0959, Training Accuracy: 96.67%\n",
      "Epoch [4/20], Loss: 0.0926, Training Accuracy: 96.67%\n",
      "Epoch [5/20], Loss: 0.0882, Training Accuracy: 96.83%\n",
      "Epoch [6/20], Loss: 0.0835, Training Accuracy: 97.20%\n",
      "Epoch [7/20], Loss: 0.0742, Training Accuracy: 97.41%\n",
      "Epoch [8/20], Loss: 0.0475, Training Accuracy: 98.38%\n",
      "Epoch [9/20], Loss: 0.0386, Training Accuracy: 98.68%\n",
      "Epoch [10/20], Loss: 0.0370, Training Accuracy: 98.81%\n",
      "Epoch [11/20], Loss: 0.0314, Training Accuracy: 98.90%\n",
      "Epoch [12/20], Loss: 0.0288, Training Accuracy: 98.98%\n",
      "Epoch [13/20], Loss: 0.0269, Training Accuracy: 99.08%\n",
      "Epoch [14/20], Loss: 0.0237, Training Accuracy: 99.22%\n",
      "Epoch [15/20], Loss: 0.0221, Training Accuracy: 99.21%\n",
      "Epoch [16/20], Loss: 0.0197, Training Accuracy: 99.42%\n",
      "Epoch [17/20], Loss: 0.0204, Training Accuracy: 99.33%\n",
      "Epoch [18/20], Loss: 0.0184, Training Accuracy: 99.39%\n",
      "Epoch [19/20], Loss: 0.0171, Training Accuracy: 99.52%\n",
      "Epoch [20/20], Loss: 0.0175, Training Accuracy: 99.47%\n"
     ]
    }
   ],
   "source": [
    "# Model Training\n",
    "num_epochs = 20\n",
    "for epoch in range(num_epochs):\n",
    "    model.train()                                     # Put the model in training mode\n",
    "    running_loss = 0.0\n",
    "    correct_train = 0\n",
    "    total_train = 0\n",
    "    for images, labels in train_loader:\n",
    "        images, labels = images.to(device), labels.to(device)     # Images & Labels must be on the same device in PyTorch, GPU or CPU\n",
    "        optimizer.zero_grad()                                    # make Gradient=0 at the begining of every batch عشان ميحصلش مشاكل في حساب الاوزان\n",
    "        outputs = model(images)                                 # Forward Propagation\n",
    "        loss = criterion(outputs, labels)                       # Error estimation\n",
    "        loss.backward()                                         # Backward Propagation\n",
    "        optimizer.step()                                        # Update Weights\n",
    "        running_loss += loss.item()                            # loss.item() => Error of current mini-batch\n",
    "    \n",
    "    # Number of Total and Correct Answers\n",
    "        _, predicted = torch.max(outputs, 1)\n",
    "        total_train += labels.size(0)\n",
    "        correct_train += (predicted == labels).sum().item()\n",
    "    \n",
    "    scheduler.step()                                        # increase 't' in StepLR equation\n",
    "    \n",
    "    # Training Accuracy\n",
    "    train_accuracy = (correct_train / total_train) * 100\n",
    "    train_accuracies.append(train_accuracy)\n",
    "    \n",
    "    print(f\"Epoch [{epoch+1}/{num_epochs}], Loss: {running_loss/len(train_loader):.4f}, Training Accuracy: {train_accuracy:.2f}%\")"
   ]
  },
  {
   "cell_type": "markdown",
   "metadata": {},
   "source": [
    "# Evaluating"
   ]
  },
  {
   "cell_type": "code",
   "execution_count": 16,
   "metadata": {
    "execution": {
     "iopub.execute_input": "2024-12-12T20:36:33.027431Z",
     "iopub.status.busy": "2024-12-12T20:36:33.027105Z",
     "iopub.status.idle": "2024-12-12T20:41:28.011548Z",
     "shell.execute_reply": "2024-12-12T20:41:28.010548Z",
     "shell.execute_reply.started": "2024-12-12T20:36:33.027403Z"
    },
    "trusted": true
   },
   "outputs": [
    {
     "name": "stdout",
     "output_type": "stream",
     "text": [
      "Test Accuracy: 95.51%\n",
      "Test Accuracy: 95.99%\n",
      "Test Accuracy: 95.67%\n",
      "Test Accuracy: 95.83%\n",
      "Test Accuracy: 96.15%\n",
      "Test Accuracy: 95.67%\n",
      "Test Accuracy: 95.67%\n",
      "Test Accuracy: 95.51%\n",
      "Test Accuracy: 95.35%\n",
      "Test Accuracy: 95.51%\n",
      "Test Accuracy: 95.67%\n",
      "Test Accuracy: 96.31%\n",
      "Test Accuracy: 95.03%\n",
      "Test Accuracy: 95.35%\n",
      "Test Accuracy: 95.51%\n",
      "Test Accuracy: 95.67%\n",
      "Test Accuracy: 95.83%\n",
      "Test Accuracy: 95.19%\n",
      "Test Accuracy: 95.35%\n",
      "Test Accuracy: 95.67%\n",
      "Model saved successfully.\n"
     ]
    }
   ],
   "source": [
    "# Model Evaluating\n",
    "for epoch in range(num_epochs):\n",
    "    model.eval()              # Put the model in evaluation mode\n",
    "    correct = 0\n",
    "    total = 0\n",
    "    with torch.no_grad():\n",
    "        for images, labels in test_loader:\n",
    "            images, labels = images.to(device), labels.to(device)\n",
    "            outputs = model(images)                                   # Forward Propagation\n",
    "            _, predicted = torch.max(outputs, 1)        # (_ = logits of the image) and (predicted = index of the selected class)\n",
    "            total += labels.size(0)\n",
    "            correct += (predicted == labels).sum().item()\n",
    "\n",
    "    accuracy = (correct / total) * 100\n",
    "    test_accuracies.append(accuracy)\n",
    "    \n",
    "    print(f\"Test Accuracy: {accuracy:.2f}%\")\n",
    "\n",
    "\n",
    "# Saving trainde weights\n",
    "torch.save(model.state_dict(), \"pneumonia_model_by_team10.pth\")\n",
    "print(\"Model saved successfully.\")"
   ]
  },
  {
   "cell_type": "markdown",
   "metadata": {},
   "source": [
    "# Plotting Train-Test accuracy graph to ensure that the model is in genaralizing well"
   ]
  },
  {
   "cell_type": "code",
   "execution_count": 22,
   "metadata": {
    "execution": {
     "iopub.execute_input": "2024-12-12T20:46:52.216466Z",
     "iopub.status.busy": "2024-12-12T20:46:52.215627Z",
     "iopub.status.idle": "2024-12-12T20:46:52.477995Z",
     "shell.execute_reply": "2024-12-12T20:46:52.477167Z",
     "shell.execute_reply.started": "2024-12-12T20:46:52.216429Z"
    },
    "trusted": true
   },
   "outputs": [
    {
     "data": {
      "image/png": "[encoded data removed]",
      "text/plain": [
       "<Figure size 1000x600 with 1 Axes>"
      ]
     },
     "metadata": {},
     "output_type": "display_data"
    }
   ],
   "source": [
    "# رسم الرسم البياني للـ Training Accuracy والـ Test Accuracy\n",
    "import matplotlib.pyplot as plt\n",
    "plt.figure(figsize=(10, 6))\n",
    "plt.plot(range(1, num_epochs + 1), train_accuracies, label='Training Accuracy', marker='o')\n",
    "plt.plot(range(1, num_epochs + 1), test_accuracies, label='Test Accuracy', marker='x')\n",
    "plt.title('Training and Test Accuracy per Epoch')\n",
    "plt.xlabel('Epoch')\n",
    "plt.ylabel('Accuracy (%)')\n",
    "plt.legend()\n",
    "plt.grid()\n",
    "plt.show()"
   ]
  }
 ],
 "metadata": {
  "kaggle": {
   "accelerator": "gpu",
   "dataSources": [
    {
     "datasetId": 17810,
     "sourceId": 23812,
     "sourceType": "datasetVersion"
    },
    {
     "datasetId": 661308,
     "sourceId": 1166777,
     "sourceType": "datasetVersion"
    },
    {
     "datasetId": 724418,
     "sourceId": 1494905,
     "sourceType": "datasetVersion"
    }
   ],
   "dockerImageVersionId": 30805,
   "isGpuEnabled": true,
   "isInternetEnabled": true,
   "language": "python",
   "sourceType": "notebook"
  },
  "kernelspec": {
   "display_name": "Python 3",
   "language": "python",
   "name": "python3"
  },
  "language_info": {
   "codemirror_mode": {
    "name": "ipython",
    "version": 3
   },
   "file_extension": ".py",
   "mimetype": "text/x-python",
   "name": "python",
   "nbconvert_exporter": "python",
   "pygments_lexer": "ipython3",
   "version": "3.10.14"
  }
 },
 "nbformat": 4,
 "nbformat_minor": 4
}
